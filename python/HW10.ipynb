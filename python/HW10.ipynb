{
 "cells": [
  {
   "cell_type": "markdown",
   "metadata": {},
   "source": [
    "## HW10 - Loops, Plots, Stats, and Data Analysis"
   ]
  },
  {
   "cell_type": "markdown",
   "metadata": {},
   "source": [
    "### Problem 1: Gravity Drained Tanks"
   ]
  },
  {
   "cell_type": "markdown",
   "metadata": {},
   "source": [
    "Cylindrical dual gravity drained tanks with a constant cross sectional area (Ac=2 $m^2$) and maximum height of 1 $m$. If the tank overfills, the excess fluid is lost. There is an inlet flow $q_{in}$, an intermediate outlet flow from tank 1 to tank 2 as $q_{out1}$, and a final outlet flow as $q_{out2}$. \n",
    "\n",
    "<img width=\"30%\" src='https://apmonitor.com/pdc/uploads/Main/2tank_schematic.png'>\n",
    "\n",
    "All flows are in units of $m^3/hr$ and heights are reported in units of $m$.\n",
    "A mass balance on each tank is used to derive the following equations that relate inlet flow to the height of the tanks.\n",
    "\n",
    "$A_c \\frac{dh_1}{dt}=q_{in}-q_{out1}$\n",
    "\n",
    "$A_c \\frac{dh_2}{dt}=q_{out1}-q_{out2}$\n",
    "\n",
    "The outlet flow rate for each tank depends on the height in the tank according to Bernoulli’s equation for incompressible fluids as:\n",
    "\n",
    "$q_{out1}=c_1 \\sqrt{h_1}$\n",
    "\n",
    "$q_{out2}=c_2 \\sqrt{h_2}$\n",
    "\n",
    "The tanks are initially empty when the inlet to tank 1 starts to flow at a rate of 0.5 $m^3/hr$.\n",
    "\n",
    "Solve for the heights ($h_1$ and $h_2$) as functions of time with $c_1$=0.13 and $c_2$=0.20. Use a timestep size of dt=0.5 $hr$ and solve up until a final time of t=10 $hr$. \n",
    "\n",
    "Plot the predicted heights $h_1$ and $h_2$ as functions of time on the same plot.  Label the axes as ```time ($hr$)``` and ```height ($m$)```.\n",
    "\n",
    "Hint: use an explicit Euler's equation applied to each $frac{dh}{dt}$ above: $frac{dh}{dt} = f(h,t)$\n",
    "\n",
    "$h_{n+1} = h{n} + dt \\, f(h_n,t_n)$\n",
    "\n",
    "Don’t forget to add an IF statement to check for overfill conditions such as:\n",
    "\n",
    "    if (height[i]>=1.0 and dheight_dt>=0):\n",
    "        height[i+1] = 1.0\n",
    "    else:\n",
    "        height[i+1] = height[i] + dt * ( f(height[i], qin, qout1) )"
   ]
  },
  {
   "cell_type": "code",
   "execution_count": null,
   "metadata": {},
   "outputs": [],
   "source": []
  }
 ],
 "metadata": {
  "kernelspec": {
   "display_name": "Python 3",
   "language": "python",
   "name": "python3"
  },
  "language_info": {
   "codemirror_mode": {
    "name": "ipython",
    "version": 3
   },
   "file_extension": ".py",
   "mimetype": "text/x-python",
   "name": "python",
   "nbconvert_exporter": "python",
   "pygments_lexer": "ipython3",
   "version": "3.7.2"
  }
 },
 "nbformat": 4,
 "nbformat_minor": 2
}
